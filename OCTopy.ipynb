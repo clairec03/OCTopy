{
 "cells": [
  {
   "cell_type": "code",
   "execution_count": 9,
   "metadata": {},
   "outputs": [
    {
     "name": "stdout",
     "output_type": "stream",
     "text": [
      "Requirement already satisfied: torch in c:\\users\\clair\\appdata\\local\\programs\\python\\python311\\lib\\site-packages (2.1.0)\n",
      "Requirement already satisfied: filelock in c:\\users\\clair\\appdata\\local\\programs\\python\\python311\\lib\\site-packages (from torch) (3.13.0)\n",
      "Requirement already satisfied: typing-extensions in c:\\users\\clair\\appdata\\local\\programs\\python\\python311\\lib\\site-packages (from torch) (4.8.0)\n",
      "Requirement already satisfied: sympy in c:\\users\\clair\\appdata\\local\\programs\\python\\python311\\lib\\site-packages (from torch) (1.12)\n",
      "Requirement already satisfied: networkx in c:\\users\\clair\\appdata\\local\\programs\\python\\python311\\lib\\site-packages (from torch) (3.2.1)\n",
      "Requirement already satisfied: jinja2 in c:\\users\\clair\\appdata\\local\\programs\\python\\python311\\lib\\site-packages (from torch) (3.1.2)\n",
      "Requirement already satisfied: fsspec in c:\\users\\clair\\appdata\\local\\programs\\python\\python311\\lib\\site-packages (from torch) (2023.10.0)\n",
      "Requirement already satisfied: MarkupSafe>=2.0 in c:\\users\\clair\\appdata\\local\\programs\\python\\python311\\lib\\site-packages (from jinja2->torch) (2.1.3)\n",
      "Requirement already satisfied: mpmath>=0.19 in c:\\users\\clair\\appdata\\local\\programs\\python\\python311\\lib\\site-packages (from sympy->torch) (1.3.0)\n",
      "Note: you may need to restart the kernel to use updated packages.\n"
     ]
    },
    {
     "name": "stderr",
     "output_type": "stream",
     "text": [
      "\n",
      "[notice] A new release of pip is available: 23.2.1 -> 23.3.1\n",
      "[notice] To update, run: python.exe -m pip install --upgrade pip\n"
     ]
    },
    {
     "name": "stdout",
     "output_type": "stream",
     "text": [
      "Requirement already satisfied: torchvision in c:\\users\\clair\\appdata\\local\\programs\\python\\python311\\lib\\site-packages (0.16.0)\n",
      "Requirement already satisfied: numpy in c:\\users\\clair\\appdata\\local\\programs\\python\\python311\\lib\\site-packages (from torchvision) (1.25.2)\n",
      "Requirement already satisfied: requests in c:\\users\\clair\\appdata\\local\\programs\\python\\python311\\lib\\site-packages (from torchvision) (2.31.0)\n",
      "Requirement already satisfied: torch==2.1.0 in c:\\users\\clair\\appdata\\local\\programs\\python\\python311\\lib\\site-packages (from torchvision) (2.1.0)\n",
      "Requirement already satisfied: pillow!=8.3.*,>=5.3.0 in c:\\users\\clair\\appdata\\local\\programs\\python\\python311\\lib\\site-packages (from torchvision) (10.0.0)\n",
      "Requirement already satisfied: filelock in c:\\users\\clair\\appdata\\local\\programs\\python\\python311\\lib\\site-packages (from torch==2.1.0->torchvision) (3.13.0)\n",
      "Requirement already satisfied: typing-extensions in c:\\users\\clair\\appdata\\local\\programs\\python\\python311\\lib\\site-packages (from torch==2.1.0->torchvision) (4.8.0)\n",
      "Requirement already satisfied: sympy in c:\\users\\clair\\appdata\\local\\programs\\python\\python311\\lib\\site-packages (from torch==2.1.0->torchvision) (1.12)\n",
      "Requirement already satisfied: networkx in c:\\users\\clair\\appdata\\local\\programs\\python\\python311\\lib\\site-packages (from torch==2.1.0->torchvision) (3.2.1)\n",
      "Requirement already satisfied: jinja2 in c:\\users\\clair\\appdata\\local\\programs\\python\\python311\\lib\\site-packages (from torch==2.1.0->torchvision) (3.1.2)\n",
      "Requirement already satisfied: fsspec in c:\\users\\clair\\appdata\\local\\programs\\python\\python311\\lib\\site-packages (from torch==2.1.0->torchvision) (2023.10.0)\n",
      "Requirement already satisfied: charset-normalizer<4,>=2 in c:\\users\\clair\\appdata\\local\\programs\\python\\python311\\lib\\site-packages (from requests->torchvision) (3.3.1)\n",
      "Requirement already satisfied: idna<4,>=2.5 in c:\\users\\clair\\appdata\\local\\programs\\python\\python311\\lib\\site-packages (from requests->torchvision) (3.4)\n",
      "Requirement already satisfied: urllib3<3,>=1.21.1 in c:\\users\\clair\\appdata\\local\\programs\\python\\python311\\lib\\site-packages (from requests->torchvision) (2.0.7)\n",
      "Requirement already satisfied: certifi>=2017.4.17 in c:\\users\\clair\\appdata\\local\\programs\\python\\python311\\lib\\site-packages (from requests->torchvision) (2023.7.22)\n",
      "Requirement already satisfied: MarkupSafe>=2.0 in c:\\users\\clair\\appdata\\local\\programs\\python\\python311\\lib\\site-packages (from jinja2->torch==2.1.0->torchvision) (2.1.3)\n",
      "Requirement already satisfied: mpmath>=0.19 in c:\\users\\clair\\appdata\\local\\programs\\python\\python311\\lib\\site-packages (from sympy->torch==2.1.0->torchvision) (1.3.0)\n",
      "Note: you may need to restart the kernel to use updated packages.\n"
     ]
    },
    {
     "name": "stderr",
     "output_type": "stream",
     "text": [
      "\n",
      "[notice] A new release of pip is available: 23.2.1 -> 23.3.1\n",
      "[notice] To update, run: python.exe -m pip install --upgrade pip\n"
     ]
    },
    {
     "name": "stdout",
     "output_type": "stream",
     "text": [
      "Requirement already satisfied: scikit-learn in c:\\users\\clair\\appdata\\local\\programs\\python\\python311\\lib\\site-packages (1.3.2)\n",
      "Requirement already satisfied: scipy in c:\\users\\clair\\appdata\\local\\programs\\python\\python311\\lib\\site-packages (1.11.3)\n",
      "Requirement already satisfied: matplotlib in c:\\users\\clair\\appdata\\local\\programs\\python\\python311\\lib\\site-packages (3.8.0)\n",
      "Requirement already satisfied: numpy<2.0,>=1.17.3 in c:\\users\\clair\\appdata\\local\\programs\\python\\python311\\lib\\site-packages (from scikit-learn) (1.25.2)\n",
      "Requirement already satisfied: joblib>=1.1.1 in c:\\users\\clair\\appdata\\local\\programs\\python\\python311\\lib\\site-packages (from scikit-learn) (1.3.2)\n",
      "Requirement already satisfied: threadpoolctl>=2.0.0 in c:\\users\\clair\\appdata\\local\\programs\\python\\python311\\lib\\site-packages (from scikit-learn) (3.2.0)\n",
      "Requirement already satisfied: contourpy>=1.0.1 in c:\\users\\clair\\appdata\\local\\programs\\python\\python311\\lib\\site-packages (from matplotlib) (1.1.0)\n",
      "Requirement already satisfied: cycler>=0.10 in c:\\users\\clair\\appdata\\local\\programs\\python\\python311\\lib\\site-packages (from matplotlib) (0.11.0)\n",
      "Requirement already satisfied: fonttools>=4.22.0 in c:\\users\\clair\\appdata\\local\\programs\\python\\python311\\lib\\site-packages (from matplotlib) (4.42.1)\n",
      "Requirement already satisfied: kiwisolver>=1.0.1 in c:\\users\\clair\\appdata\\local\\programs\\python\\python311\\lib\\site-packages (from matplotlib) (1.4.5)\n",
      "Requirement already satisfied: packaging>=20.0 in c:\\users\\clair\\appdata\\roaming\\python\\python311\\site-packages (from matplotlib) (23.1)\n",
      "Requirement already satisfied: pillow>=6.2.0 in c:\\users\\clair\\appdata\\local\\programs\\python\\python311\\lib\\site-packages (from matplotlib) (10.0.0)\n",
      "Requirement already satisfied: pyparsing>=2.3.1 in c:\\users\\clair\\appdata\\local\\programs\\python\\python311\\lib\\site-packages (from matplotlib) (3.1.1)\n",
      "Requirement already satisfied: python-dateutil>=2.7 in c:\\users\\clair\\appdata\\roaming\\python\\python311\\site-packages (from matplotlib) (2.8.2)\n",
      "Requirement already satisfied: six>=1.5 in c:\\users\\clair\\appdata\\roaming\\python\\python311\\site-packages (from python-dateutil>=2.7->matplotlib) (1.16.0)\n",
      "Note: you may need to restart the kernel to use updated packages.\n"
     ]
    },
    {
     "name": "stderr",
     "output_type": "stream",
     "text": [
      "\n",
      "[notice] A new release of pip is available: 23.2.1 -> 23.3.1\n",
      "[notice] To update, run: python.exe -m pip install --upgrade pip\n"
     ]
    },
    {
     "name": "stdout",
     "output_type": "stream",
     "text": [
      "Collecting tqdm\n",
      "  Obtaining dependency information for tqdm from https://files.pythonhosted.org/packages/00/e5/f12a80907d0884e6dff9c16d0c0114d81b8cd07dc3ae54c5e962cc83037e/tqdm-4.66.1-py3-none-any.whl.metadata\n",
      "  Downloading tqdm-4.66.1-py3-none-any.whl.metadata (57 kB)\n",
      "     ---------------------------------------- 0.0/57.6 kB ? eta -:--:--\n",
      "     ------- -------------------------------- 10.2/57.6 kB ? eta -:--:--\n",
      "     --------------------------- ---------- 41.0/57.6 kB 393.8 kB/s eta 0:00:01\n",
      "     -------------------------------------- 57.6/57.6 kB 378.9 kB/s eta 0:00:00\n",
      "Requirement already satisfied: colorama in c:\\users\\clair\\appdata\\roaming\\python\\python311\\site-packages (from tqdm) (0.4.6)\n",
      "Downloading tqdm-4.66.1-py3-none-any.whl (78 kB)\n",
      "   ---------------------------------------- 0.0/78.3 kB ? eta -:--:--\n",
      "   ------------------------------------ --- 71.7/78.3 kB 2.0 MB/s eta 0:00:01\n",
      "   ---------------------------------------- 78.3/78.3 kB 1.4 MB/s eta 0:00:00\n",
      "Installing collected packages: tqdm\n",
      "Successfully installed tqdm-4.66.1\n",
      "Note: you may need to restart the kernel to use updated packages.\n"
     ]
    },
    {
     "name": "stderr",
     "output_type": "stream",
     "text": [
      "  WARNING: The script tqdm.exe is installed in 'c:\\Users\\clair\\AppData\\Local\\Programs\\Python\\Python311\\Scripts' which is not on PATH.\n",
      "  Consider adding this directory to PATH or, if you prefer to suppress this warning, use --no-warn-script-location.\n",
      "\n",
      "[notice] A new release of pip is available: 23.2.1 -> 23.3.1\n",
      "[notice] To update, run: python.exe -m pip install --upgrade pip\n"
     ]
    }
   ],
   "source": [
    "%pip install torch\n",
    "%pip install torchvision\n",
    "%pip install -U scikit-learn scipy matplotlib\n",
    "%pip install tqdm"
   ]
  },
  {
   "cell_type": "code",
   "execution_count": 1,
   "metadata": {},
   "outputs": [],
   "source": [
    "import os\n",
    "import numpy as np\n",
    "import pandas as pd\n",
    "import matplotlib.pyplot as plt\n",
    "from PIL import Image\n",
    "import torch\n",
    "import torch.nn as nn\n",
    "import torch.optim as optim\n",
    "from torch.utils.data import Dataset, DataLoader\n",
    "import torchvision\n",
    "from torchvision import transforms\n",
    "from torchvision.io import read_image\n",
    "from pathlib import Path\n",
    "import torchvision.models as models\n",
    "import torchvision.datasets as datasets\n",
    "import matplotlib.pyplot as plt\n",
    "import pickle as pk"
   ]
  },
  {
   "cell_type": "code",
   "execution_count": 2,
   "metadata": {},
   "outputs": [],
   "source": [
    "from sklearn.model_selection import train_test_split\n",
    "from tqdm import tqdm"
   ]
  },
  {
   "cell_type": "code",
   "execution_count": 3,
   "metadata": {},
   "outputs": [],
   "source": [
    "# Constants / Macros\n",
    "batch_size = 64\n",
    "num_channels = 3 # (r, g, b)\n",
    "num_classes = 4\n",
    "num_samples_per_class = 73\n",
    "SIZE = 224\n",
    "m, n = SIZE, SIZE\n",
    "classes = [str(c) for c in range(num_classes)]\n",
    "\n",
    "ROOT_PATH = '../'\n",
    "\n",
    "TRAIN_PATH = ROOT_PATH + 'train/'\n",
    "TEST_PATH = ROOT_PATH + 'test'"
   ]
  },
  {
   "cell_type": "code",
   "execution_count": 13,
   "metadata": {},
   "outputs": [
    {
     "data": {
      "text/plain": [
       "['0', '1', '2', '3']"
      ]
     },
     "execution_count": 13,
     "metadata": {},
     "output_type": "execute_result"
    }
   ],
   "source": [
    "os.listdir(TRAIN_PATH)"
   ]
  },
  {
   "cell_type": "code",
   "execution_count": 4,
   "metadata": {},
   "outputs": [
    {
     "data": {
      "text/plain": [
       "False"
      ]
     },
     "execution_count": 4,
     "metadata": {},
     "output_type": "execute_result"
    }
   ],
   "source": [
    "torch.cuda.is_available()"
   ]
  },
  {
   "cell_type": "code",
   "execution_count": 5,
   "metadata": {},
   "outputs": [],
   "source": [
    "device = torch.device('cuda' if torch.cuda.is_available() else 'cpu')"
   ]
  },
  {
   "cell_type": "code",
   "execution_count": 6,
   "metadata": {},
   "outputs": [],
   "source": [
    "torch.manual_seed(69420)\n",
    "\n",
    "transform = transforms.Compose([\n",
    "    transforms.Resize((224, 224)),\n",
    "    transforms.ToTensor(),\n",
    "    transforms.Normalize(mean=[0.11030937731266022, 0.11030937731266022, 0.11030937731266022], \\\n",
    "                         std=[0.18150997161865234, 0.18150997161865234, 0.18150997161865234])\n",
    "])"
   ]
  },
  {
   "cell_type": "code",
   "execution_count": 7,
   "metadata": {},
   "outputs": [
    {
     "data": {
      "text/plain": [
       "(Dataset ImageFolder\n",
       "     Number of datapoints: 292\n",
       "     Root location: ../train/\n",
       "     StandardTransform\n",
       " Transform: Compose(\n",
       "                Resize(size=(224, 224), interpolation=bilinear, max_size=None, antialias=warn)\n",
       "                ToTensor()\n",
       "                Normalize(mean=[0.11030937731266022, 0.11030937731266022, 0.11030937731266022], std=[0.18150997161865234, 0.18150997161865234, 0.18150997161865234])\n",
       "            ),\n",
       " Dataset ImageFolder\n",
       "     Number of datapoints: 49\n",
       "     Root location: ../test\n",
       "     StandardTransform\n",
       " Transform: Compose(\n",
       "                Resize(size=(224, 224), interpolation=bilinear, max_size=None, antialias=warn)\n",
       "                ToTensor()\n",
       "                Normalize(mean=[0.11030937731266022, 0.11030937731266022, 0.11030937731266022], std=[0.18150997161865234, 0.18150997161865234, 0.18150997161865234])\n",
       "            ))"
      ]
     },
     "execution_count": 7,
     "metadata": {},
     "output_type": "execute_result"
    }
   ],
   "source": [
    "train_dataset = datasets.ImageFolder(root=TRAIN_PATH, transform=transform)\n",
    "test_dataset = datasets.ImageFolder(root=TEST_PATH, transform=transform)\n",
    "train_dataset, test_dataset"
   ]
  },
  {
   "cell_type": "code",
   "execution_count": 8,
   "metadata": {},
   "outputs": [],
   "source": [
    "train_loader = DataLoader(train_dataset, batch_size=64, shuffle=True)\n",
    "test_loader = DataLoader(test_dataset, batch_size=64, shuffle=False)"
   ]
  },
  {
   "cell_type": "code",
   "execution_count": 9,
   "metadata": {},
   "outputs": [],
   "source": [
    "# Model hyperparams\n",
    "lr = 0.001\n",
    "momentum = 0.95"
   ]
  },
  {
   "cell_type": "code",
   "execution_count": 10,
   "metadata": {},
   "outputs": [],
   "source": [
    "# Evaluate with ResNet\n",
    "torch.manual_seed(69420)\n",
    "\n",
    "model = models.resnet18()\n",
    "num_classes = 4  # Number of classes\n",
    "model.fc = nn.Linear(model.fc.in_features, num_classes)\n",
    "criterion = nn.CrossEntropyLoss()\n",
    "optimizer = optim.SGD(model.parameters(), lr=lr, momentum=momentum)"
   ]
  },
  {
   "cell_type": "code",
   "execution_count": 11,
   "metadata": {},
   "outputs": [
    {
     "name": "stdout",
     "output_type": "stream",
     "text": [
      "Start training\n",
      "Epoch 1, Loss: 1.4012846946716309  |  Train Accuracy: 27.74%  |  Test Accuracy: 24.49%\n",
      "Epoch 2, Loss: 1.3720795154571532  |  Train Accuracy: 25.34%  |  Test Accuracy: 22.45%\n",
      "Epoch 3, Loss: 1.382616138458252  |  Train Accuracy: 25.00%  |  Test Accuracy: 22.45%\n",
      "Epoch 4, Loss: 1.348340678215027  |  Train Accuracy: 28.42%  |  Test Accuracy: 18.37%\n",
      "Epoch 5, Loss: 1.3420373439788817  |  Train Accuracy: 27.05%  |  Test Accuracy: 18.37%\n",
      "Epoch 6, Loss: 1.3183213233947755  |  Train Accuracy: 31.16%  |  Test Accuracy: 24.49%\n",
      "Epoch 7, Loss: 1.2976136445999145  |  Train Accuracy: 37.33%  |  Test Accuracy: 26.53%\n",
      "Epoch 8, Loss: 1.2835829973220825  |  Train Accuracy: 46.23%  |  Test Accuracy: 30.61%\n",
      "Epoch 9, Loss: 1.248461651802063  |  Train Accuracy: 42.81%  |  Test Accuracy: 32.65%\n",
      "Epoch 10, Loss: 1.226651906967163  |  Train Accuracy: 54.11%  |  Test Accuracy: 38.78%\n",
      "Epoch 11, Loss: 1.2020267724990845  |  Train Accuracy: 42.81%  |  Test Accuracy: 44.90%\n",
      "Epoch 12, Loss: 1.1672915935516357  |  Train Accuracy: 44.86%  |  Test Accuracy: 40.82%\n",
      "Epoch 13, Loss: 1.1383080005645752  |  Train Accuracy: 61.64%  |  Test Accuracy: 38.78%\n",
      "Epoch 14, Loss: 1.0856757640838623  |  Train Accuracy: 55.82%  |  Test Accuracy: 38.78%\n",
      "Epoch 15, Loss: 1.0472011804580688  |  Train Accuracy: 60.96%  |  Test Accuracy: 44.90%\n",
      "Epoch 16, Loss: 1.000667941570282  |  Train Accuracy: 62.33%  |  Test Accuracy: 42.86%\n",
      "Epoch 17, Loss: 0.9473447799682617  |  Train Accuracy: 68.84%  |  Test Accuracy: 44.90%\n",
      "Epoch 18, Loss: 0.9117164254188538  |  Train Accuracy: 73.63%  |  Test Accuracy: 53.06%\n",
      "Epoch 19, Loss: 0.8418522119522095  |  Train Accuracy: 84.93%  |  Test Accuracy: 46.94%\n",
      "Epoch 20, Loss: 0.81145339012146  |  Train Accuracy: 75.34%  |  Test Accuracy: 44.90%\n",
      "Epoch 21, Loss: 0.7434838891029358  |  Train Accuracy: 81.85%  |  Test Accuracy: 51.02%\n",
      "Epoch 22, Loss: 0.6831711411476136  |  Train Accuracy: 93.15%  |  Test Accuracy: 44.90%\n",
      "Epoch 23, Loss: 0.6150266647338867  |  Train Accuracy: 94.86%  |  Test Accuracy: 44.90%\n",
      "Epoch 24, Loss: 0.553769326210022  |  Train Accuracy: 96.92%  |  Test Accuracy: 46.94%\n",
      "Epoch 25, Loss: 0.4832887530326843  |  Train Accuracy: 96.92%  |  Test Accuracy: 48.98%\n",
      "Epoch 26, Loss: 0.41883265376091006  |  Train Accuracy: 99.32%  |  Test Accuracy: 48.98%\n",
      "Epoch 27, Loss: 0.35688482522964476  |  Train Accuracy: 99.66%  |  Test Accuracy: 53.06%\n",
      "Epoch 28, Loss: 0.31238937973976133  |  Train Accuracy: 99.66%  |  Test Accuracy: 55.10%\n",
      "Epoch 29, Loss: 0.2643081247806549  |  Train Accuracy: 98.97%  |  Test Accuracy: 51.02%\n",
      "Epoch 30, Loss: 0.21076665818691254  |  Train Accuracy: 100.00%  |  Test Accuracy: 48.98%\n",
      "Epoch 31, Loss: 0.16699250638484955  |  Train Accuracy: 100.00%  |  Test Accuracy: 57.14%\n",
      "Epoch 32, Loss: 0.14772038012742997  |  Train Accuracy: 100.00%  |  Test Accuracy: 48.98%\n",
      "Epoch 33, Loss: 0.11137872189283371  |  Train Accuracy: 100.00%  |  Test Accuracy: 55.10%\n",
      "Epoch 34, Loss: 0.08955356180667877  |  Train Accuracy: 100.00%  |  Test Accuracy: 63.27%\n",
      "Epoch 35, Loss: 0.07624307572841645  |  Train Accuracy: 100.00%  |  Test Accuracy: 57.14%\n",
      "Epoch 36, Loss: 0.06050770804286003  |  Train Accuracy: 100.00%  |  Test Accuracy: 57.14%\n",
      "Epoch 37, Loss: 0.049634582549333575  |  Train Accuracy: 100.00%  |  Test Accuracy: 57.14%\n",
      "Epoch 38, Loss: 0.04034250155091286  |  Train Accuracy: 100.00%  |  Test Accuracy: 59.18%\n",
      "Epoch 39, Loss: 0.03663782440125942  |  Train Accuracy: 100.00%  |  Test Accuracy: 55.10%\n",
      "Epoch 40, Loss: 0.029300425946712495  |  Train Accuracy: 100.00%  |  Test Accuracy: 51.02%\n",
      "Epoch 41, Loss: 0.029503056779503822  |  Train Accuracy: 100.00%  |  Test Accuracy: 55.10%\n",
      "Epoch 42, Loss: 0.022346070781350136  |  Train Accuracy: 100.00%  |  Test Accuracy: 53.06%\n",
      "Epoch 43, Loss: 0.020251362398266793  |  Train Accuracy: 100.00%  |  Test Accuracy: 55.10%\n",
      "Epoch 44, Loss: 0.01935707125812769  |  Train Accuracy: 100.00%  |  Test Accuracy: 55.10%\n",
      "Epoch 45, Loss: 0.01800815686583519  |  Train Accuracy: 100.00%  |  Test Accuracy: 55.10%\n",
      "Epoch 46, Loss: 0.01604207567870617  |  Train Accuracy: 100.00%  |  Test Accuracy: 55.10%\n",
      "Epoch 47, Loss: 0.014659985154867172  |  Train Accuracy: 100.00%  |  Test Accuracy: 55.10%\n",
      "Epoch 48, Loss: 0.014752605371177197  |  Train Accuracy: 100.00%  |  Test Accuracy: 57.14%\n",
      "Epoch 49, Loss: 0.011634574458003043  |  Train Accuracy: 100.00%  |  Test Accuracy: 53.06%\n",
      "Epoch 50, Loss: 0.012887995131313801  |  Train Accuracy: 100.00%  |  Test Accuracy: 55.10%\n"
     ]
    }
   ],
   "source": [
    "train_loss, train_acc, test_loss, test_acc = [], [], [], []\n",
    "\n",
    "model.to(device)\n",
    "\n",
    "print(\"Start training\")\n",
    "num_epochs = 50\n",
    "for epoch in range(num_epochs):\n",
    "    model.train()\n",
    "    running_loss = 0.0\n",
    "\n",
    "    for images, labels in train_loader:\n",
    "      images, labels = images.to(device), labels.to(device)\n",
    "      optimizer.zero_grad()\n",
    "      outputs = model(images)\n",
    "      loss = criterion(outputs, labels)\n",
    "      loss.backward()\n",
    "      optimizer.step()\n",
    "      running_loss += loss.item()\n",
    "\n",
    "    training_loss = running_loss / len(train_loader)\n",
    "    print(f'Epoch {epoch + 1}, Loss: {training_loss}', end='  |  ')\n",
    "    train_loss.append(training_loss)\n",
    "\n",
    "    model.eval()\n",
    "\n",
    "    correct = 0\n",
    "    total = 0\n",
    "    with torch.no_grad():\n",
    "      for images, labels in train_loader:\n",
    "        images, labels = images.to(device), labels.to(device)\n",
    "        outputs = model(images)\n",
    "        _, predicted = torch.max(outputs.data, 1)\n",
    "        total += labels.size(0)\n",
    "        correct += (predicted == labels).sum().item()\n",
    "\n",
    "    accuracy = 100 * correct / total\n",
    "    print(f'Train Accuracy: {accuracy:.2f}%', end='  |  ')\n",
    "    train_acc.append(accuracy)\n",
    "\n",
    "    correct = 0\n",
    "    total = 0\n",
    "    running_testing_loss = 0.0\n",
    "    with torch.no_grad():\n",
    "        for images, labels in test_loader:\n",
    "            images, labels = images.to(device), labels.to(device)\n",
    "            outputs = model(images)\n",
    "            loss = criterion(outputs, labels)\n",
    "            running_testing_loss += loss.item()\n",
    "            _, predicted = torch.max(outputs.data, 1)\n",
    "            total += labels.size(0)\n",
    "            correct += (predicted == labels).sum().item()\n",
    "\n",
    "    accuracy = 100 * correct / total\n",
    "    print(f'Test Accuracy: {accuracy:.2f}%')\n",
    "    test_acc.append(accuracy)\n",
    "    test_loss.append(running_testing_loss)\n",
    "\n",
    "torch.save(model.state_dict(), 'resnet18_e20_normalized_from_scratch.ckpt')"
   ]
  },
  {
   "cell_type": "code",
   "execution_count": null,
   "metadata": {},
   "outputs": [],
   "source": []
  },
  {
   "cell_type": "code",
   "execution_count": 38,
   "metadata": {},
   "outputs": [
    {
     "data": {
      "text/plain": [
       "44.89795918367347"
      ]
     },
     "execution_count": 38,
     "metadata": {},
     "output_type": "execute_result"
    }
   ],
   "source": [
    "test_acc[-1]"
   ]
  },
  {
   "cell_type": "code",
   "execution_count": null,
   "metadata": {},
   "outputs": [],
   "source": [
    "# Evaluate with ResNet\n",
    "model = models.resnet18(weights=models.ResNet18_Weights.IMAGENET1K_V1)\n",
    "# model = models.resnet18(pretrained=True)\n",
    "num_classes = 4  # Number of categories\n",
    "model.fc = nn.Linear(model.fc.in_features, num_classes)\n",
    "\n",
    "criterion = nn.CrossEntropyLoss()\n",
    "optimizer = optim.SGD(model.parameters(), lr=lr, momentum=momentum)"
   ]
  },
  {
   "cell_type": "code",
   "execution_count": 39,
   "metadata": {},
   "outputs": [],
   "source": [
    "output = {\"train_losses\" : train_loss, \"train_accs\" : train_acc, \n",
    "                        \"test_losses\" : test_loss, \"test_accs\" : test_acc}\n",
    "\n",
    "fname = \"ResNet18_Normalized_From_Scratch_Correctly.pkl\"\n",
    "\n",
    "with open(fname, 'wb') as outfile:\n",
    "    pk.dump(output, outfile)"
   ]
  },
  {
   "cell_type": "code",
   "execution_count": 156,
   "metadata": {},
   "outputs": [],
   "source": [
    "fname = \"ResNet_Baseline_pretrained.pkl\"\n",
    "\n",
    "with open(fname, 'rb') as outfile:\n",
    "    output = pk.load(outfile)"
   ]
  },
  {
   "cell_type": "code",
   "execution_count": 168,
   "metadata": {},
   "outputs": [
    {
     "data": {
      "image/png": "[encoded data removed]",
      "text/plain": [
       "<Figure size 640x480 with 1 Axes>"
      ]
     },
     "metadata": {},
     "output_type": "display_data"
    }
   ],
   "source": [
    "# plot_param = \"Accuracy\"\n",
    "plot_param = \"Loss\"\n",
    "model_type = \"ResNet\"\n",
    "\n",
    "epochs = [i for i in range(num_epochs)]\n",
    "\n",
    "# with open(fname, 'rb') as f: \n",
    "#     output = pk.load(f)\n",
    "\n",
    "hyperparams = f\"(batch_size={batch_size}, learning_rate={lr}, momentum={momentum})\"\n",
    "\n",
    "plt.figure()\n",
    "\n",
    "# plt.title(f\"Accuracy of {model_type} (Pretrained) over 50 epochs\\n\\n\" + hyperparams)\n",
    "# plt.plot(epochs, output[\"train_accs\"], label = \"Training Accuracy\")\n",
    "# plt.plot(epochs, output[\"test_accs\"], label = \"Testing Accuracy\")\n",
    "\n",
    "\n",
    "plt.title(f\"Loss of {model_type} (Pretrained) over 50 epochs\\n\\n\" + hyperparams)\n",
    "plt.plot(epochs, output[\"train_losses\"], label = \"Training Loss\")\n",
    "plt.plot(epochs, output[\"test_losses\"], label = \"Testing Loss\")\n",
    "\n",
    "\n",
    "plt.ylabel(\"Percent Accuracy\", size=12)\n",
    "plt.xlabel(\"Number of Epochs\", size=12)\n",
    "plt.legend(bbox_to_anchor=(1.4, 1), loc='upper right', borderaxespad=0)\n",
    "final_dp = min(output[\"test_losses\"])\n",
    "plt.text(epochs[-1], final_dp, f\"Best Testing {plot_param} = {final_dp}\",horizontalalignment='right')\n",
    "plt.show()"
   ]
  },
  {
   "cell_type": "code",
   "execution_count": 79,
   "metadata": {},
   "outputs": [
    {
     "name": "stdout",
     "output_type": "stream",
     "text": [
      "Collecting alexnet_pytorch\n",
      "  Downloading alexnet_pytorch-0.2.0-py2.py3-none-any.whl (13 kB)\n",
      "Requirement already satisfied: torch in c:\\users\\clair\\appdata\\local\\programs\\python\\python311\\lib\\site-packages (from alexnet_pytorch) (2.1.0)\n",
      "Requirement already satisfied: filelock in c:\\users\\clair\\appdata\\local\\programs\\python\\python311\\lib\\site-packages (from torch->alexnet_pytorch) (3.13.0)\n",
      "Requirement already satisfied: typing-extensions in c:\\users\\clair\\appdata\\local\\programs\\python\\python311\\lib\\site-packages (from torch->alexnet_pytorch) (4.8.0)\n",
      "Requirement already satisfied: sympy in c:\\users\\clair\\appdata\\local\\programs\\python\\python311\\lib\\site-packages (from torch->alexnet_pytorch) (1.12)\n",
      "Requirement already satisfied: networkx in c:\\users\\clair\\appdata\\local\\programs\\python\\python311\\lib\\site-packages (from torch->alexnet_pytorch) (3.2.1)\n",
      "Requirement already satisfied: jinja2 in c:\\users\\clair\\appdata\\local\\programs\\python\\python311\\lib\\site-packages (from torch->alexnet_pytorch) (3.1.2)\n",
      "Requirement already satisfied: fsspec in c:\\users\\clair\\appdata\\local\\programs\\python\\python311\\lib\\site-packages (from torch->alexnet_pytorch) (2023.10.0)\n",
      "Requirement already satisfied: MarkupSafe>=2.0 in c:\\users\\clair\\appdata\\local\\programs\\python\\python311\\lib\\site-packages (from jinja2->torch->alexnet_pytorch) (2.1.3)\n",
      "Requirement already satisfied: mpmath>=0.19 in c:\\users\\clair\\appdata\\local\\programs\\python\\python311\\lib\\site-packages (from sympy->torch->alexnet_pytorch) (1.3.0)\n",
      "Installing collected packages: alexnet_pytorch\n",
      "Successfully installed alexnet_pytorch-0.2.0\n",
      "Note: you may need to restart the kernel to use updated packages.\n"
     ]
    },
    {
     "name": "stderr",
     "output_type": "stream",
     "text": [
      "\n",
      "[notice] A new release of pip is available: 23.2.1 -> 23.3.1\n",
      "[notice] To update, run: python.exe -m pip install --upgrade pip\n"
     ]
    }
   ],
   "source": [
    "%pip install alexnet_pytorch"
   ]
  },
  {
   "cell_type": "code",
   "execution_count": 80,
   "metadata": {},
   "outputs": [
    {
     "name": "stderr",
     "output_type": "stream",
     "text": [
      "Downloading: \"https://download.pytorch.org/models/alexnet-owt-4df8aa71.pth\" to C:\\Users\\clair/.cache\\torch\\hub\\checkpoints\\alexnet-owt-4df8aa71.pth\n",
      "100.0%\n"
     ]
    },
    {
     "name": "stdout",
     "output_type": "stream",
     "text": [
      "Loaded pretrained weights for alexnet\n"
     ]
    }
   ],
   "source": [
    "# Evaluate with AlexNet\n",
    "# model = models.alexnet(weights=torchvision.models.AlexNet_Weights)\n",
    "from alexnet_pytorch import AlexNet\n",
    "model = AlexNet.from_pretrained('alexnet', num_classes=num_classes)\n",
    "\n",
    "num_classes = 4  # Number of classes\n",
    "# model.fc = nn.Linear(model.fc.in_features, num_classes)\n",
    "criterion = nn.CrossEntropyLoss()\n",
    "optimizer = optim.SGD(model.parameters(), lr=lr, momentum=momentum)"
   ]
  },
  {
   "cell_type": "code",
   "execution_count": 81,
   "metadata": {},
   "outputs": [
    {
     "name": "stdout",
     "output_type": "stream",
     "text": [
      "Start training\n",
      "Epoch 1, Loss: 1.4165935039520263  |  Train Accuracy: 36.30%  |  Test Accuracy: 32.65%\n",
      "Epoch 2, Loss: 1.3640504837036134  |  Train Accuracy: 47.95%  |  Test Accuracy: 30.61%\n",
      "Epoch 3, Loss: 1.1498933553695678  |  Train Accuracy: 47.26%  |  Test Accuracy: 42.86%\n",
      "Epoch 4, Loss: 1.1045210123062135  |  Train Accuracy: 56.85%  |  Test Accuracy: 44.90%\n",
      "Epoch 5, Loss: 1.006609058380127  |  Train Accuracy: 64.04%  |  Test Accuracy: 36.73%\n",
      "Epoch 6, Loss: 0.8863179206848144  |  Train Accuracy: 66.78%  |  Test Accuracy: 42.86%\n",
      "Epoch 7, Loss: 0.7736524701118469  |  Train Accuracy: 69.86%  |  Test Accuracy: 44.90%\n",
      "Epoch 8, Loss: 0.7458394765853882  |  Train Accuracy: 69.18%  |  Test Accuracy: 42.86%\n",
      "Epoch 9, Loss: 0.654656732082367  |  Train Accuracy: 75.00%  |  Test Accuracy: 40.82%\n",
      "Epoch 10, Loss: 0.5856936156749726  |  Train Accuracy: 84.59%  |  Test Accuracy: 51.02%\n",
      "Epoch 11, Loss: 0.4903307855129242  |  Train Accuracy: 89.73%  |  Test Accuracy: 46.94%\n",
      "Epoch 12, Loss: 0.37880844473838804  |  Train Accuracy: 92.47%  |  Test Accuracy: 51.02%\n",
      "Epoch 13, Loss: 0.2992884308099747  |  Train Accuracy: 96.92%  |  Test Accuracy: 51.02%\n",
      "Epoch 14, Loss: 0.21000056266784667  |  Train Accuracy: 97.60%  |  Test Accuracy: 51.02%\n",
      "Epoch 15, Loss: 0.16386351883411407  |  Train Accuracy: 98.97%  |  Test Accuracy: 46.94%\n",
      "Epoch 16, Loss: 0.10530391484498977  |  Train Accuracy: 99.66%  |  Test Accuracy: 51.02%\n",
      "Epoch 17, Loss: 0.10062360987067223  |  Train Accuracy: 99.66%  |  Test Accuracy: 51.02%\n",
      "Epoch 18, Loss: 0.08420304581522942  |  Train Accuracy: 100.00%  |  Test Accuracy: 48.98%\n",
      "Epoch 19, Loss: 0.055072199925780295  |  Train Accuracy: 100.00%  |  Test Accuracy: 53.06%\n",
      "Epoch 20, Loss: 0.04868397563695907  |  Train Accuracy: 100.00%  |  Test Accuracy: 51.02%\n",
      "Epoch 21, Loss: 0.03848329186439514  |  Train Accuracy: 100.00%  |  Test Accuracy: 51.02%\n",
      "Epoch 22, Loss: 0.03519201017916203  |  Train Accuracy: 100.00%  |  Test Accuracy: 48.98%\n",
      "Epoch 23, Loss: 0.025785617902874945  |  Train Accuracy: 100.00%  |  Test Accuracy: 48.98%\n",
      "Epoch 24, Loss: 0.017600893042981625  |  Train Accuracy: 100.00%  |  Test Accuracy: 46.94%\n",
      "Epoch 25, Loss: 0.024156466498970984  |  Train Accuracy: 100.00%  |  Test Accuracy: 46.94%\n",
      "Epoch 26, Loss: 0.007578888349235058  |  Train Accuracy: 100.00%  |  Test Accuracy: 38.78%\n",
      "Epoch 27, Loss: 0.009532297495752573  |  Train Accuracy: 100.00%  |  Test Accuracy: 48.98%\n",
      "Epoch 28, Loss: 0.0063613020349293945  |  Train Accuracy: 100.00%  |  Test Accuracy: 48.98%\n",
      "Epoch 29, Loss: 0.007760183024220169  |  Train Accuracy: 100.00%  |  Test Accuracy: 51.02%\n",
      "Epoch 30, Loss: 0.003523699939250946  |  Train Accuracy: 100.00%  |  Test Accuracy: 53.06%\n",
      "Epoch 31, Loss: 0.0036109618842601774  |  Train Accuracy: 100.00%  |  Test Accuracy: 55.10%\n",
      "Epoch 32, Loss: 0.0034148785285651683  |  Train Accuracy: 100.00%  |  Test Accuracy: 55.10%\n",
      "Epoch 33, Loss: 0.005043061450123787  |  Train Accuracy: 100.00%  |  Test Accuracy: 53.06%\n",
      "Epoch 34, Loss: 0.002525265235453844  |  Train Accuracy: 100.00%  |  Test Accuracy: 55.10%\n",
      "Epoch 35, Loss: 0.0023784630233421923  |  Train Accuracy: 100.00%  |  Test Accuracy: 53.06%\n",
      "Epoch 36, Loss: 0.0023948629852384327  |  Train Accuracy: 100.00%  |  Test Accuracy: 51.02%\n",
      "Epoch 37, Loss: 0.002366108726710081  |  Train Accuracy: 100.00%  |  Test Accuracy: 51.02%\n",
      "Epoch 38, Loss: 0.0013438299880363046  |  Train Accuracy: 100.00%  |  Test Accuracy: 53.06%\n",
      "Epoch 39, Loss: 0.0016792326234281064  |  Train Accuracy: 100.00%  |  Test Accuracy: 53.06%\n",
      "Epoch 40, Loss: 0.0016969766467809678  |  Train Accuracy: 100.00%  |  Test Accuracy: 53.06%\n",
      "Epoch 41, Loss: 0.001299286773428321  |  Train Accuracy: 100.00%  |  Test Accuracy: 51.02%\n",
      "Epoch 42, Loss: 0.002087274088989943  |  Train Accuracy: 100.00%  |  Test Accuracy: 51.02%\n",
      "Epoch 43, Loss: 0.0011478107888251543  |  Train Accuracy: 100.00%  |  Test Accuracy: 53.06%\n",
      "Epoch 44, Loss: 0.0019939588557463138  |  Train Accuracy: 100.00%  |  Test Accuracy: 53.06%\n",
      "Epoch 45, Loss: 0.0010039328306447714  |  Train Accuracy: 100.00%  |  Test Accuracy: 53.06%\n",
      "Epoch 46, Loss: 0.001047919294796884  |  Train Accuracy: 100.00%  |  Test Accuracy: 51.02%\n",
      "Epoch 47, Loss: 0.001250963576603681  |  Train Accuracy: 100.00%  |  Test Accuracy: 53.06%\n",
      "Epoch 48, Loss: 0.0007132595870643854  |  Train Accuracy: 100.00%  |  Test Accuracy: 53.06%\n",
      "Epoch 49, Loss: 0.0011631298228166997  |  Train Accuracy: 100.00%  |  Test Accuracy: 53.06%\n",
      "Epoch 50, Loss: 0.001167222240474075  |  Train Accuracy: 100.00%  |  Test Accuracy: 53.06%\n"
     ]
    }
   ],
   "source": [
    "# Train AlexNet\n",
    "\n",
    "train_loss, train_acc, test_loss, test_acc = [], [], [], []\n",
    "\n",
    "model.to(device)\n",
    "\n",
    "print(\"Start training\")\n",
    "num_epochs = 50\n",
    "for epoch in range(num_epochs):\n",
    "    model.train()\n",
    "    running_loss = 0.0\n",
    "\n",
    "    for images, labels in train_loader:\n",
    "      images, labels = images.to(device), labels.to(device)\n",
    "      optimizer.zero_grad()\n",
    "      outputs = model(images)\n",
    "      loss = criterion(outputs, labels)\n",
    "      loss.backward()\n",
    "      optimizer.step()\n",
    "      running_loss += loss.item()\n",
    "\n",
    "    training_loss = running_loss / len(train_loader)\n",
    "    print(f'Epoch {epoch + 1}, Loss: {training_loss}', end='  |  ')\n",
    "    train_loss.append(training_loss)\n",
    "\n",
    "    model.eval()\n",
    "\n",
    "    correct = 0\n",
    "    total = 0\n",
    "    with torch.no_grad():\n",
    "      for images, labels in train_loader:\n",
    "        images, labels = images.to(device), labels.to(device)\n",
    "        outputs = model(images)\n",
    "        _, predicted = torch.max(outputs.data, 1)\n",
    "        total += labels.size(0)\n",
    "        correct += (predicted == labels).sum().item()\n",
    "\n",
    "    accuracy = 100 * correct / total\n",
    "    print(f'Train Accuracy: {accuracy:.2f}%', end='  |  ')\n",
    "    train_acc.append(accuracy)\n",
    "\n",
    "    correct = 0\n",
    "    total = 0\n",
    "    running_testing_loss = 0.0\n",
    "    with torch.no_grad():\n",
    "        for images, labels in test_loader:\n",
    "            images, labels = images.to(device), labels.to(device)\n",
    "            outputs = model(images)\n",
    "            loss = criterion(outputs, labels)\n",
    "            running_testing_loss += loss.item()\n",
    "            _, predicted = torch.max(outputs.data, 1)\n",
    "            total += labels.size(0)\n",
    "            correct += (predicted == labels).sum().item()\n",
    "\n",
    "    accuracy = 100 * correct / total\n",
    "    print(f'Test Accuracy: {accuracy:.2f}%')\n",
    "    test_acc.append(accuracy)\n",
    "    test_loss.append(running_testing_loss)\n",
    "\n",
    "torch.save(model.state_dict(), 'alexnet_pretrained.ckpt')"
   ]
  },
  {
   "cell_type": "code",
   "execution_count": 119,
   "metadata": {},
   "outputs": [
    {
     "data": {
      "text/plain": [
       "50"
      ]
     },
     "execution_count": 119,
     "metadata": {},
     "output_type": "execute_result"
    }
   ],
   "source": [
    "len(test_loss[50:])"
   ]
  },
  {
   "cell_type": "code",
   "execution_count": 115,
   "metadata": {},
   "outputs": [],
   "source": [
    "output = {\"train_losses\" : train_loss[50:], \"train_accs\" : train_acc[50:], \n",
    "                        \"test_losses\" : test_loss[50:], \"test_accs\" : test_acc[50:]}\n",
    "\n",
    "fname = \"AlexNet_Baseline.pkl\"\n",
    "\n",
    "with open(fname, 'wb') as outfile:\n",
    "    pk.dump(output, outfile)"
   ]
  },
  {
   "cell_type": "code",
   "execution_count": 114,
   "metadata": {},
   "outputs": [
    {
     "data": {
      "image/png": "[encoded data removed]",
      "text/plain": [
       "<Figure size 640x480 with 1 Axes>"
      ]
     },
     "metadata": {},
     "output_type": "display_data"
    }
   ],
   "source": [
    "# plot_param = \"Accuracy\"\n",
    "plot_param = \"Loss\"\n",
    "\n",
    "model_type = \"AlexNet\"\n",
    "\n",
    "epochs = [i for i in range(50)]\n",
    "\n",
    "# with open(fname, 'rb') as f: \n",
    "#     output = pk.load(f)\n",
    "\n",
    "hyperparams = f\"(batch_size={batch_size}, learning_rate={lr}, momentum={momentum})\"\n",
    "\n",
    "plt.figure()\n",
    "\n",
    "# if plot_param == \"accuracy\":\n",
    "# plt.title(f\"Accuracy of {model_type} (Pre-trained) over 50 epochs\\n\\n\" + hyperparams)\n",
    "# plt.plot(epochs, output[\"train_accs\"][50:], label = \"Training Accuracy\")\n",
    "# plt.plot(epochs, output[\"test_accs\"][50:], label = \"Testing Accuracy\")\n",
    "\n",
    "\n",
    "# if plot_param == \"loss\":\n",
    "plt.title(f\"Loss of {model_type} (Pre-trained) over 50 epochs\\n\\n\" + hyperparams)\n",
    "plt.plot(epochs, output[\"train_losses\"][50:], label = \"Training Loss\")\n",
    "plt.plot(epochs, output[\"test_losses\"][50:], label = \"Testing Loss\")\n",
    "\n",
    "\n",
    "plt.ylabel(\"Percent Accuracy\", size=12)\n",
    "plt.xlabel(\"Number of Epochs\", size=12)\n",
    "plt.legend(bbox_to_anchor=(1.4, 1), loc='upper right', borderaxespad=0)\n",
    "final_dp = output[\"test_losses\"][99]\n",
    "plt.text(epochs[-1], final_dp, f\"Final Testing {plot_param} = {final_dp}\", horizontalalignment='right')\n",
    "plt.show()"
   ]
  },
  {
   "cell_type": "code",
   "execution_count": null,
   "metadata": {},
   "outputs": [],
   "source": [
    "train_loss, train_acc, test_loss, test_acc = [], [], [], []\n",
    "\n",
    "model.to(device)\n",
    "\n",
    "print(\"Start training\")\n",
    "num_epochs = 50\n",
    "for epoch in range(num_epochs):\n",
    "    model.train()\n",
    "    running_loss = 0.0\n",
    "\n",
    "    for images, labels in train_loader:\n",
    "      images, labels = images.to(device), labels.to(device)\n",
    "      optimizer.zero_grad()\n",
    "      outputs = model(images)\n",
    "      loss = criterion(outputs, labels)\n",
    "      loss.backward()\n",
    "      optimizer.step()\n",
    "      running_loss += loss.item()\n",
    "\n",
    "    training_loss = running_loss / len(train_loader)\n",
    "    print(f'Epoch {epoch + 1}, Loss: {training_loss}', end='  |  ')\n",
    "    train_loss.append(training_loss)\n",
    "\n",
    "    model.eval()\n",
    "\n",
    "    correct = 0\n",
    "    total = 0\n",
    "    with torch.no_grad():\n",
    "      for images, labels in train_loader:\n",
    "        images, labels = images.to(device), labels.to(device)\n",
    "        outputs = model(images)\n",
    "        _, predicted = torch.max(outputs.data, 1)\n",
    "        total += labels.size(0)\n",
    "        correct += (predicted == labels).sum().item()\n",
    "\n",
    "    accuracy = 100 * correct / total\n",
    "    print(f'Train Accuracy: {accuracy:.2f}%', end='  |  ')\n",
    "    train_acc.append(accuracy)\n",
    "\n",
    "    correct = 0\n",
    "    total = 0\n",
    "    running_testing_loss = 0.0\n",
    "    with torch.no_grad():\n",
    "        for images, labels in test_loader:\n",
    "            images, labels = images.to(device), labels.to(device)\n",
    "            outputs = model(images)\n",
    "            loss = criterion(outputs, labels)\n",
    "            running_testing_loss += loss.item()\n",
    "            _, predicted = torch.max(outputs.data, 1)\n",
    "            total += labels.size(0)\n",
    "            correct += (predicted == labels).sum().item()\n",
    "\n",
    "    accuracy = 100 * correct / total\n",
    "    print(f'Test Accuracy: {accuracy:.2f}%')\n",
    "    test_acc.append(accuracy)\n",
    "    test_loss.append(running_testing_loss)\n",
    "\n",
    "torch.save(model.state_dict(), 'alexnet.ckpt')"
   ]
  }
 ],
 "metadata": {
  "kernelspec": {
   "display_name": "Python 3",
   "language": "python",
   "name": "python3"
  },
  "language_info": {
   "codemirror_mode": {
    "name": "ipython",
    "version": 3
   },
   "file_extension": ".py",
   "mimetype": "text/x-python",
   "name": "python",
   "nbconvert_exporter": "python",
   "pygments_lexer": "ipython3",
   "version": "3.11.5"
  }
 },
 "nbformat": 4,
 "nbformat_minor": 2
}
